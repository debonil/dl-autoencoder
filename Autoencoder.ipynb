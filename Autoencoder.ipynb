{
  "cells": [
    {
      "cell_type": "code",
      "execution_count": 1,
      "metadata": {
        "id": "20hDuTKHX2KO"
      },
      "outputs": [],
      "source": [
        "from keras.models import Sequential \n",
        "from keras.layers import Dense,Conv2D,MaxPooling2D,UpSampling2D\n",
        "from keras import Input, Model\n",
        "from keras.datasets import mnist\n",
        "\n",
        "import numpy as np\n",
        "import matplotlib.pyplot as plt"
      ]
    },
    {
      "cell_type": "code",
      "execution_count": null,
      "metadata": {
        "id": "wVr8T4wiFR_g"
      },
      "outputs": [],
      "source": []
    },
    {
      "cell_type": "code",
      "execution_count": 2,
      "metadata": {
        "id": "TMy_Ro2tbiaB"
      },
      "outputs": [],
      "source": [
        "encoding_dim = 15 \n",
        "input_img = Input(shape=(784,))\n",
        "# encoded representation of input\n",
        "encoded = Dense(encoding_dim, activation='relu')(input_img)\n",
        "# decoded representation of code \n",
        "decoded = Dense(784, activation='sigmoid')(encoded)\n",
        "# Model which take input image and shows decoded images\n",
        "autoencoder = Model(input_img, decoded)"
      ]
    },
    {
      "cell_type": "code",
      "execution_count": 3,
      "metadata": {
        "id": "6DU7ztsNbx9D"
      },
      "outputs": [],
      "source": [
        "# This model shows encoded images\n",
        "encoder = Model(input_img, encoded)\n",
        "\n",
        "# Creating a decoder model\n",
        "encoded_input = Input(shape=(encoding_dim,))\n",
        "\n",
        "# last layer of the autoencoder model\n",
        "decoder_layer = autoencoder.layers[-1]\n",
        "\n",
        "# decoder model\n",
        "decoder = Model(encoded_input, decoder_layer(encoded_input))"
      ]
    },
    {
      "cell_type": "code",
      "execution_count": 4,
      "metadata": {
        "id": "MEj6bucBcji1"
      },
      "outputs": [],
      "source": [
        "autoencoder.compile(optimizer='adam', loss='binary_crossentropy')"
      ]
    },
    {
      "cell_type": "code",
      "execution_count": 5,
      "metadata": {
        "colab": {
          "base_uri": "https://localhost:8080/"
        },
        "id": "2oMtkfA3cv3n",
        "outputId": "e2cb42d2-bce5-409f-dc1f-f0d6c22954c2"
      },
      "outputs": [],
      "source": [
        "(x_train, y_train), (x_test, y_test) = mnist.load_data()"
      ]
    },
    {
      "cell_type": "code",
      "execution_count": 6,
      "metadata": {
        "colab": {
          "base_uri": "https://localhost:8080/"
        },
        "id": "pMFUOUy1dBdT",
        "outputId": "23d0c137-e3da-45b2-8940-f598c6a358f6"
      },
      "outputs": [
        {
          "name": "stdout",
          "output_type": "stream",
          "text": [
            "(60000, 784)\n",
            "(10000, 784)\n"
          ]
        }
      ],
      "source": [
        "x_train = x_train.astype('float32') / 255.\n",
        "x_test = x_test.astype('float32') / 255.\n",
        "x_train = x_train.reshape((len(x_train), np.prod(x_train.shape[1:])))\n",
        "x_test = x_test.reshape((len(x_test), np.prod(x_test.shape[1:])))\n",
        "print(x_train.shape)\n",
        "print(x_test.shape)"
      ]
    },
    {
      "cell_type": "code",
      "execution_count": 7,
      "metadata": {
        "colab": {
          "base_uri": "https://localhost:8080/",
          "height": 282
        },
        "id": "KZFmWaMueUcH",
        "outputId": "43812431-8514-4fbd-d585-4167e524cff6"
      },
      "outputs": [
        {
          "data": {
            "text/plain": [
              "<matplotlib.image.AxesImage at 0x175711e9630>"
            ]
          },
          "execution_count": 7,
          "metadata": {},
          "output_type": "execute_result"
        },
        {
          "data": {
            "image/png": "[encoded data removed]",
            "text/plain": [
              "<Figure size 640x480 with 1 Axes>"
            ]
          },
          "metadata": {},
          "output_type": "display_data"
        }
      ],
      "source": [
        "plt.imshow(x_train[0].reshape(28,28))"
      ]
    },
    {
      "cell_type": "code",
      "execution_count": 8,
      "metadata": {
        "colab": {
          "base_uri": "https://localhost:8080/"
        },
        "id": "sJxFF5hQdDGc",
        "outputId": "3bc5b8c0-1bdf-4905-abda-d7c9296190e2"
      },
      "outputs": [
        {
          "name": "stdout",
          "output_type": "stream",
          "text": [
            "Epoch 1/15\n",
            "235/235 [==============================] - 3s 7ms/step - loss: 0.3111 - val_loss: 0.2237\n",
            "Epoch 2/15\n",
            "235/235 [==============================] - 2s 7ms/step - loss: 0.2022 - val_loss: 0.1826\n",
            "Epoch 3/15\n",
            "235/235 [==============================] - 2s 7ms/step - loss: 0.1732 - val_loss: 0.1631\n",
            "Epoch 4/15\n",
            "235/235 [==============================] - 1s 6ms/step - loss: 0.1592 - val_loss: 0.1538\n",
            "Epoch 5/15\n",
            "235/235 [==============================] - 1s 6ms/step - loss: 0.1519 - val_loss: 0.1481\n",
            "Epoch 6/15\n",
            "235/235 [==============================] - 2s 7ms/step - loss: 0.1476 - val_loss: 0.1448\n",
            "Epoch 7/15\n",
            "235/235 [==============================] - 2s 8ms/step - loss: 0.1448 - val_loss: 0.1426\n",
            "Epoch 8/15\n",
            "235/235 [==============================] - 1s 6ms/step - loss: 0.1427 - val_loss: 0.1405\n",
            "Epoch 9/15\n",
            "235/235 [==============================] - 1s 6ms/step - loss: 0.1410 - val_loss: 0.1389\n",
            "Epoch 10/15\n",
            "235/235 [==============================] - 1s 6ms/step - loss: 0.1394 - val_loss: 0.1377\n",
            "Epoch 11/15\n",
            "235/235 [==============================] - 1s 6ms/step - loss: 0.1381 - val_loss: 0.1363\n",
            "Epoch 12/15\n",
            "235/235 [==============================] - 1s 6ms/step - loss: 0.1370 - val_loss: 0.1352\n",
            "Epoch 13/15\n",
            "235/235 [==============================] - 1s 6ms/step - loss: 0.1361 - val_loss: 0.1343\n",
            "Epoch 14/15\n",
            "235/235 [==============================] - 2s 7ms/step - loss: 0.1353 - val_loss: 0.1337\n",
            "Epoch 15/15\n",
            "235/235 [==============================] - 2s 7ms/step - loss: 0.1347 - val_loss: 0.1332\n"
          ]
        },
        {
          "data": {
            "text/plain": [
              "<keras.callbacks.History at 0x175743dfbe0>"
            ]
          },
          "execution_count": 8,
          "metadata": {},
          "output_type": "execute_result"
        }
      ],
      "source": [
        "autoencoder.fit(x_train, x_train,\n",
        "                epochs=15,\n",
        "                batch_size=256,\n",
        "                validation_data=(x_test, x_test))"
      ]
    },
    {
      "cell_type": "code",
      "execution_count": 9,
      "metadata": {
        "colab": {
          "base_uri": "https://localhost:8080/"
        },
        "id": "wvp45sSGeJ2w",
        "outputId": "0a8f764c-7bb0-496f-8a4b-f5b9d9fb07c8"
      },
      "outputs": [
        {
          "name": "stdout",
          "output_type": "stream",
          "text": [
            "313/313 [==============================] - 1s 2ms/step\n"
          ]
        }
      ],
      "source": [
        "encoded_img = encoder.predict(x_test)"
      ]
    },
    {
      "cell_type": "code",
      "execution_count": 10,
      "metadata": {
        "colab": {
          "base_uri": "https://localhost:8080/"
        },
        "id": "Aczjp5YTfnPW",
        "outputId": "b04c0ef4-c5e5-4832-fe37-486b41988480"
      },
      "outputs": [
        {
          "name": "stdout",
          "output_type": "stream",
          "text": [
            "313/313 [==============================] - 1s 2ms/step\n"
          ]
        }
      ],
      "source": [
        "decoded_img = decoder.predict(encoded_img)"
      ]
    },
    {
      "cell_type": "code",
      "execution_count": 11,
      "metadata": {
        "colab": {
          "base_uri": "https://localhost:8080/",
          "height": 252
        },
        "id": "6DB-l084fx32",
        "outputId": "f93669d0-0bdc-4616-9340-95c1ca7f8ecd"
      },
      "outputs": [
        {
          "data": {
            "image/png": "[encoded data removed]",
            "text/plain": [
              "<Figure size 2000x400 with 10 Axes>"
            ]
          },
          "metadata": {},
          "output_type": "display_data"
        }
      ],
      "source": [
        "plt.figure(figsize=(20, 4))\n",
        "for i in range(5):\n",
        "    # Display original\n",
        "    ax = plt.subplot(2, 5, i + 1)\n",
        "    plt.imshow(x_test[i].reshape(28, 28))\n",
        "    plt.gray()\n",
        "    ax.get_xaxis().set_visible(False)\n",
        "    ax.get_yaxis().set_visible(False)\n",
        "\n",
        "    # Display reconstruction\n",
        "    ax = plt.subplot(2, 5, i + 1 + 5)\n",
        "    plt.imshow(decoded_img[i].reshape(28, 28))\n",
        "    plt.gray()\n",
        "    ax.get_xaxis().set_visible(False)\n",
        "    ax.get_yaxis().set_visible(False)\n",
        "plt.show()"
      ]
    },
    {
      "cell_type": "code",
      "execution_count": null,
      "metadata": {
        "id": "Dec_BJsTgCXQ"
      },
      "outputs": [],
      "source": []
    },
    {
      "cell_type": "code",
      "execution_count": 12,
      "metadata": {
        "id": "tC1TTPQNOrgb"
      },
      "outputs": [],
      "source": [
        "model = Sequential()\n",
        "# encoder network\n",
        "model.add(Conv2D(30, 3, activation= 'relu', padding='same', input_shape = (28,28,1)))\n",
        "model.add(MaxPooling2D(2, padding= 'same'))\n",
        "model.add(Conv2D(15, 3, activation= 'relu', padding='same'))\n",
        "model.add(MaxPooling2D(2, padding= 'same'))\n"
      ]
    },
    {
      "cell_type": "code",
      "execution_count": 13,
      "metadata": {
        "id": "ii9DJMdiOrhx"
      },
      "outputs": [],
      "source": [
        "#decoder network\n",
        "model.add(Conv2D(15, 3, activation= 'relu', padding='same'))\n",
        "model.add(UpSampling2D(2))\n",
        "model.add(Conv2D(30, 3, activation= 'relu', padding='same'))\n",
        "model.add(UpSampling2D(2))\n",
        "model.add(Conv2D(1,3,activation='sigmoid', padding= 'same')) # output layer\n",
        "\n",
        "model.compile(optimizer= 'adam', loss = 'binary_crossentropy')"
      ]
    },
    {
      "cell_type": "code",
      "execution_count": 14,
      "metadata": {
        "colab": {
          "base_uri": "https://localhost:8080/"
        },
        "id": "WMe8Um2AOrjE",
        "outputId": "b204c5f3-a5c5-4d0d-dd83-56e8d74318f7"
      },
      "outputs": [
        {
          "name": "stdout",
          "output_type": "stream",
          "text": [
            "Model: \"sequential\"\n",
            "_________________________________________________________________\n",
            " Layer (type)                Output Shape              Param #   \n",
            "=================================================================\n",
            " conv2d (Conv2D)             (None, 28, 28, 30)        300       \n",
            "                                                                 \n",
            " max_pooling2d (MaxPooling2D  (None, 14, 14, 30)       0         \n",
            " )                                                               \n",
            "                                                                 \n",
            " conv2d_1 (Conv2D)           (None, 14, 14, 15)        4065      \n",
            "                                                                 \n",
            " max_pooling2d_1 (MaxPooling  (None, 7, 7, 15)         0         \n",
            " 2D)                                                             \n",
            "                                                                 \n",
            " conv2d_2 (Conv2D)           (None, 7, 7, 15)          2040      \n",
            "                                                                 \n",
            " up_sampling2d (UpSampling2D  (None, 14, 14, 15)       0         \n",
            " )                                                               \n",
            "                                                                 \n",
            " conv2d_3 (Conv2D)           (None, 14, 14, 30)        4080      \n",
            "                                                                 \n",
            " up_sampling2d_1 (UpSampling  (None, 28, 28, 30)       0         \n",
            " 2D)                                                             \n",
            "                                                                 \n",
            " conv2d_4 (Conv2D)           (None, 28, 28, 1)         271       \n",
            "                                                                 \n",
            "=================================================================\n",
            "Total params: 10,756\n",
            "Trainable params: 10,756\n",
            "Non-trainable params: 0\n",
            "_________________________________________________________________\n"
          ]
        }
      ],
      "source": [
        "model.summary()"
      ]
    },
    {
      "cell_type": "code",
      "execution_count": 15,
      "metadata": {
        "id": "Xh36TUuBOrkE"
      },
      "outputs": [],
      "source": [
        "(x_train, _), (x_test, _) = mnist.load_data()\n",
        "\n",
        "x_train = x_train.astype('float32') / 255.\n",
        "x_test = x_test.astype('float32') / 255.\n",
        "x_train = np.reshape(x_train, (len(x_train), 28, 28, 1))\n",
        "x_test = np.reshape(x_test, (len(x_test), 28, 28, 1))"
      ]
    },
    {
      "cell_type": "code",
      "execution_count": 16,
      "metadata": {
        "colab": {
          "base_uri": "https://localhost:8080/"
        },
        "id": "Rsbf5TLFOrlC",
        "outputId": "6cc236b8-514a-43ad-e7f4-acedd0de3701"
      },
      "outputs": [
        {
          "name": "stdout",
          "output_type": "stream",
          "text": [
            "Epoch 1/15\n",
            "469/469 [==============================] - 73s 154ms/step - loss: 0.1275 - val_loss: 0.0810\n",
            "Epoch 2/15\n",
            "469/469 [==============================] - 84s 179ms/step - loss: 0.0790 - val_loss: 0.0761\n",
            "Epoch 3/15\n",
            "469/469 [==============================] - 70s 150ms/step - loss: 0.0755 - val_loss: 0.0745\n",
            "Epoch 4/15\n",
            "469/469 [==============================] - 58s 124ms/step - loss: 0.0736 - val_loss: 0.0723\n",
            "Epoch 5/15\n",
            "469/469 [==============================] - 59s 126ms/step - loss: 0.0724 - val_loss: 0.0714\n",
            "Epoch 6/15\n",
            "469/469 [==============================] - 59s 126ms/step - loss: 0.0715 - val_loss: 0.0705\n",
            "Epoch 7/15\n",
            "469/469 [==============================] - 70s 149ms/step - loss: 0.0708 - val_loss: 0.0701\n",
            "Epoch 8/15\n",
            "469/469 [==============================] - 74s 158ms/step - loss: 0.0702 - val_loss: 0.0696\n",
            "Epoch 9/15\n",
            "469/469 [==============================] - 67s 142ms/step - loss: 0.0698 - val_loss: 0.0689\n",
            "Epoch 10/15\n",
            "469/469 [==============================] - 65s 139ms/step - loss: 0.0693 - val_loss: 0.0685\n",
            "Epoch 11/15\n",
            "469/469 [==============================] - 69s 146ms/step - loss: 0.0690 - val_loss: 0.0683\n",
            "Epoch 12/15\n",
            "469/469 [==============================] - 68s 144ms/step - loss: 0.0687 - val_loss: 0.0680\n",
            "Epoch 13/15\n",
            "469/469 [==============================] - 63s 134ms/step - loss: 0.0684 - val_loss: 0.0678\n",
            "Epoch 14/15\n",
            "469/469 [==============================] - 59s 125ms/step - loss: 0.0682 - val_loss: 0.0680\n",
            "Epoch 15/15\n",
            "469/469 [==============================] - 60s 128ms/step - loss: 0.0680 - val_loss: 0.0673\n"
          ]
        },
        {
          "data": {
            "text/plain": [
              "<keras.callbacks.History at 0x1757a60e410>"
            ]
          },
          "execution_count": 16,
          "metadata": {},
          "output_type": "execute_result"
        }
      ],
      "source": [
        "model.fit(x_train, x_train,\n",
        "                epochs=15,\n",
        "                batch_size=128,\n",
        "                validation_data=(x_test, x_test))"
      ]
    },
    {
      "cell_type": "code",
      "execution_count": 17,
      "metadata": {
        "id": "mrXubw49jRaE"
      },
      "outputs": [
        {
          "name": "stdout",
          "output_type": "stream",
          "text": [
            "313/313 [==============================] - 5s 15ms/step\n"
          ]
        }
      ],
      "source": [
        "pred = model.predict(x_test)"
      ]
    },
    {
      "cell_type": "code",
      "execution_count": 18,
      "metadata": {
        "id": "OYSdI8m0OroB"
      },
      "outputs": [
        {
          "data": {
            "image/png": "[encoded data removed]",
            "text/plain": [
              "<Figure size 2000x400 with 10 Axes>"
            ]
          },
          "metadata": {},
          "output_type": "display_data"
        }
      ],
      "source": [
        "plt.figure(figsize=(20, 4))\n",
        "for i in range(5):\n",
        "    # Display original\n",
        "    ax = plt.subplot(2, 5, i + 1)\n",
        "    plt.imshow(x_test[i].reshape(28, 28))\n",
        "    plt.gray()\n",
        "    ax.get_xaxis().set_visible(False)\n",
        "    ax.get_yaxis().set_visible(False)\n",
        "\n",
        "    # Display reconstruction\n",
        "    ax = plt.subplot(2, 5, i + 1 + 5)\n",
        "    plt.imshow(pred[i].reshape(28, 28))\n",
        "    plt.gray()\n",
        "    ax.get_xaxis().set_visible(False)\n",
        "    ax.get_yaxis().set_visible(False)\n",
        "plt.show()"
      ]
    },
    {
      "cell_type": "markdown",
      "metadata": {
        "id": "yg5U1i5alQxz"
      },
      "source": [
        "### introduce noise in the images"
      ]
    },
    {
      "cell_type": "code",
      "execution_count": 19,
      "metadata": {
        "id": "ZC7XYfqCR2Bs"
      },
      "outputs": [],
      "source": [
        "noise_factor = 0.7\n",
        "x_train_noisy = x_train + noise_factor * np.random.normal(loc=0.0, scale=1.0, size=x_train.shape) \n",
        "x_test_noisy = x_test + noise_factor * np.random.normal(loc=0.0, scale=1.0, size=x_test.shape) \n",
        "\n",
        "x_train_noisy = np.clip(x_train_noisy, 0., 1.)\n",
        "x_test_noisy = np.clip(x_test_noisy, 0., 1.)"
      ]
    },
    {
      "cell_type": "code",
      "execution_count": 20,
      "metadata": {
        "id": "c3jHVn2kR6in"
      },
      "outputs": [
        {
          "data": {
            "image/png": "[encoded data removed]",
            "text/plain": [
              "<Figure size 2000x200 with 5 Axes>"
            ]
          },
          "metadata": {},
          "output_type": "display_data"
        }
      ],
      "source": [
        "plt.figure(figsize=(20, 2))\n",
        "for i in range(1, 5 + 1):\n",
        "    ax = plt.subplot(1, 5, i)\n",
        "    plt.imshow(x_test_noisy[i].reshape(28, 28))\n",
        "    plt.gray()\n",
        "    ax.get_xaxis().set_visible(False)\n",
        "    ax.get_yaxis().set_visible(False)\n",
        "plt.show()"
      ]
    },
    {
      "cell_type": "code",
      "execution_count": 21,
      "metadata": {
        "id": "uyI6mQGblhOz"
      },
      "outputs": [],
      "source": [
        "model = Sequential()\n",
        "# encoder network\n",
        "model.add(Conv2D(35, 3, activation= 'relu', padding='same', input_shape = (28,28,1)))\n",
        "model.add(MaxPooling2D(2, padding= 'same'))\n",
        "model.add(Conv2D(25, 3, activation= 'relu', padding='same'))\n",
        "model.add(MaxPooling2D(2, padding= 'same'))\n",
        "#decoder network\n",
        "model.add(Conv2D(25, 3, activation= 'relu', padding='same'))\n",
        "model.add(UpSampling2D(2))\n",
        "model.add(Conv2D(35, 3, activation= 'relu', padding='same'))\n",
        "model.add(UpSampling2D(2))\n",
        "model.add(Conv2D(1,3,activation='sigmoid', padding= 'same')) # output layer\n",
        "\n",
        "model.compile(optimizer= 'adam', loss = 'binary_crossentropy')"
      ]
    },
    {
      "cell_type": "code",
      "execution_count": 22,
      "metadata": {
        "id": "97ptfXAFmDzC"
      },
      "outputs": [
        {
          "name": "stdout",
          "output_type": "stream",
          "text": [
            "Epoch 1/15\n",
            "469/469 [==============================] - 76s 158ms/step - loss: 0.1980 - val_loss: 0.1485\n",
            "Epoch 2/15\n",
            "469/469 [==============================] - 74s 158ms/step - loss: 0.1449 - val_loss: 0.1398\n",
            "Epoch 3/15\n",
            "469/469 [==============================] - 71s 152ms/step - loss: 0.1384 - val_loss: 0.1346\n",
            "Epoch 4/15\n",
            "469/469 [==============================] - 71s 151ms/step - loss: 0.1347 - val_loss: 0.1320\n",
            "Epoch 5/15\n",
            "469/469 [==============================] - 71s 151ms/step - loss: 0.1323 - val_loss: 0.1305\n",
            "Epoch 6/15\n",
            "469/469 [==============================] - 70s 150ms/step - loss: 0.1304 - val_loss: 0.1282\n",
            "Epoch 7/15\n",
            "469/469 [==============================] - 76s 161ms/step - loss: 0.1288 - val_loss: 0.1270\n",
            "Epoch 8/15\n",
            "469/469 [==============================] - 85s 181ms/step - loss: 0.1277 - val_loss: 0.1260\n",
            "Epoch 9/15\n",
            "469/469 [==============================] - 73s 155ms/step - loss: 0.1268 - val_loss: 0.1252\n",
            "Epoch 10/15\n",
            "469/469 [==============================] - 71s 152ms/step - loss: 0.1259 - val_loss: 0.1245\n",
            "Epoch 11/15\n",
            "469/469 [==============================] - 69s 148ms/step - loss: 0.1252 - val_loss: 0.1239\n",
            "Epoch 12/15\n",
            "469/469 [==============================] - 71s 151ms/step - loss: 0.1246 - val_loss: 0.1233\n",
            "Epoch 13/15\n",
            "469/469 [==============================] - 73s 156ms/step - loss: 0.1240 - val_loss: 0.1229\n",
            "Epoch 14/15\n",
            "469/469 [==============================] - 72s 154ms/step - loss: 0.1235 - val_loss: 0.1225\n",
            "Epoch 15/15\n",
            "469/469 [==============================] - 73s 155ms/step - loss: 0.1231 - val_loss: 0.1222\n"
          ]
        },
        {
          "data": {
            "text/plain": [
              "<keras.callbacks.History at 0x1750c92f670>"
            ]
          },
          "execution_count": 22,
          "metadata": {},
          "output_type": "execute_result"
        }
      ],
      "source": [
        "model.fit(x_train_noisy, x_train,\n",
        "                epochs=15,\n",
        "                batch_size=128,\n",
        "                validation_data=(x_test_noisy, x_test))"
      ]
    },
    {
      "cell_type": "code",
      "execution_count": 23,
      "metadata": {
        "id": "9WWgU8x3mN6d"
      },
      "outputs": [
        {
          "name": "stdout",
          "output_type": "stream",
          "text": [
            "313/313 [==============================] - 8s 25ms/step\n"
          ]
        }
      ],
      "source": [
        "pred = model.predict(x_test_noisy)"
      ]
    },
    {
      "cell_type": "code",
      "execution_count": 24,
      "metadata": {
        "id": "y9x6hgAtm5bN"
      },
      "outputs": [
        {
          "data": {
            "image/png": "[encoded data removed]",
            "text/plain": [
              "<Figure size 2000x400 with 10 Axes>"
            ]
          },
          "metadata": {},
          "output_type": "display_data"
        }
      ],
      "source": [
        "plt.figure(figsize=(20, 4))\n",
        "for i in range(5):\n",
        "    # Display original\n",
        "    ax = plt.subplot(2, 5, i + 1)\n",
        "    plt.imshow(x_test_noisy[i].reshape(28, 28))\n",
        "    plt.gray()\n",
        "    ax.get_xaxis().set_visible(False)\n",
        "    ax.get_yaxis().set_visible(False)\n",
        "    # Display reconstruction\n",
        "    ax = plt.subplot(2, 5, i + 1 + 5)\n",
        "    plt.imshow(pred[i].reshape(28, 28))\n",
        "    plt.gray()\n",
        "    ax.get_xaxis().set_visible(False)\n",
        "    ax.get_yaxis().set_visible(False)\n",
        "plt.show()"
      ]
    },
    {
      "cell_type": "code",
      "execution_count": null,
      "metadata": {
        "id": "giFe1PyynBeN"
      },
      "outputs": [],
      "source": []
    },
    {
      "cell_type": "code",
      "execution_count": null,
      "metadata": {
        "id": "j1bSNpN9rPWt"
      },
      "outputs": [],
      "source": []
    },
    {
      "cell_type": "code",
      "execution_count": null,
      "metadata": {
        "id": "d5BupzjYrPZb"
      },
      "outputs": [],
      "source": []
    },
    {
      "cell_type": "code",
      "execution_count": null,
      "metadata": {
        "id": "WgsBLxlErPaU"
      },
      "outputs": [],
      "source": []
    },
    {
      "cell_type": "code",
      "execution_count": null,
      "metadata": {
        "id": "CvXQ9IaMrPgM"
      },
      "outputs": [],
      "source": []
    }
  ],
  "metadata": {
    "accelerator": "GPU",
    "colab": {
      "collapsed_sections": [],
      "provenance": []
    },
    "kernelspec": {
      "display_name": "Python 3.10.7 64-bit",
      "language": "python",
      "name": "python3"
    },
    "language_info": {
      "codemirror_mode": {
        "name": "ipython",
        "version": 3
      },
      "file_extension": ".py",
      "mimetype": "text/x-python",
      "name": "python",
      "nbconvert_exporter": "python",
      "pygments_lexer": "ipython3",
      "version": "3.10.7"
    },
    "vscode": {
      "interpreter": {
        "hash": "c4ae7141c631147330982ab03a122191846cf83f5ea8efac7ef9984176873ce7"
      }
    }
  },
  "nbformat": 4,
  "nbformat_minor": 0
}
